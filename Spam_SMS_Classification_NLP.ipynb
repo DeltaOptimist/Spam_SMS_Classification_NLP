{
  "nbformat": 4,
  "nbformat_minor": 0,
  "metadata": {
    "colab": {
      "name": "Spam_SMS_Classification_NLP.ipynb",
      "provenance": [],
      "collapsed_sections": []
    },
    "kernelspec": {
      "display_name": "Python 3",
      "language": "python",
      "name": "python3"
    },
    "language_info": {
      "codemirror_mode": {
        "name": "ipython",
        "version": 3
      },
      "file_extension": ".py",
      "mimetype": "text/x-python",
      "name": "python",
      "nbconvert_exporter": "python",
      "pygments_lexer": "ipython3",
      "version": "3.7.4"
    }
  },
  "cells": [
    {
      "cell_type": "markdown",
      "metadata": {
        "id": "3F0KVm8OTgUR"
      },
      "source": [
        "## Spam SMS Classification"
      ]
    },
    {
      "cell_type": "code",
      "metadata": {
        "id": "CuLTKUtDkeNy"
      },
      "source": [
        "# Importing essential libraries\n",
        "import numpy as np\n",
        "import pandas as pd"
      ],
      "execution_count": 1,
      "outputs": []
    },
    {
      "cell_type": "code",
      "metadata": {
        "id": "-JugX3xqksdz"
      },
      "source": [
        "# Loading the dataset\n",
        "df = pd.read_csv('/content/Spam SMS Collection', sep='\\t', names=['label', 'message'])"
      ],
      "execution_count": 2,
      "outputs": []
    },
    {
      "cell_type": "markdown",
      "metadata": {
        "id": "1Rkt2A1-lLmU"
      },
      "source": [
        "# **Exploratory Data Analysis (EDA)**\n",
        "* Exploring NaN values in dataset\n",
        "* Plotting countplots for Spam vs. Ham\n",
        "\n"
      ]
    },
    {
      "cell_type": "code",
      "metadata": {
        "id": "tzna42NelFhk",
        "colab": {
          "base_uri": "https://localhost:8080/"
        },
        "outputId": "211a04ad-4961-4d72-913e-c4c110cd97af"
      },
      "source": [
        "df.shape"
      ],
      "execution_count": 3,
      "outputs": [
        {
          "output_type": "execute_result",
          "data": {
            "text/plain": [
              "(5572, 2)"
            ]
          },
          "metadata": {
            "tags": []
          },
          "execution_count": 3
        }
      ]
    },
    {
      "cell_type": "code",
      "metadata": {
        "id": "6sBEdM7LlDIw",
        "colab": {
          "base_uri": "https://localhost:8080/"
        },
        "outputId": "1e460dc5-17d1-4c46-e517-5c7a86b2e59f"
      },
      "source": [
        "df.columns"
      ],
      "execution_count": 4,
      "outputs": [
        {
          "output_type": "execute_result",
          "data": {
            "text/plain": [
              "Index(['label', 'message'], dtype='object')"
            ]
          },
          "metadata": {
            "tags": []
          },
          "execution_count": 4
        }
      ]
    },
    {
      "cell_type": "code",
      "metadata": {
        "id": "D2Y-K4vTBFtI",
        "colab": {
          "base_uri": "https://localhost:8080/"
        },
        "outputId": "f5a8d057-088c-4ab3-fc18-e7b3f25648ba"
      },
      "source": [
        "df.dtypes"
      ],
      "execution_count": 5,
      "outputs": [
        {
          "output_type": "execute_result",
          "data": {
            "text/plain": [
              "label      object\n",
              "message    object\n",
              "dtype: object"
            ]
          },
          "metadata": {
            "tags": []
          },
          "execution_count": 5
        }
      ]
    },
    {
      "cell_type": "code",
      "metadata": {
        "id": "qcTIhSlRlHrb",
        "colab": {
          "base_uri": "https://localhost:8080/",
          "height": 204
        },
        "outputId": "706a727a-ec75-416f-dea0-3eeda393e6c1"
      },
      "source": [
        "df.head()"
      ],
      "execution_count": 6,
      "outputs": [
        {
          "output_type": "execute_result",
          "data": {
            "text/html": [
              "<div>\n",
              "<style scoped>\n",
              "    .dataframe tbody tr th:only-of-type {\n",
              "        vertical-align: middle;\n",
              "    }\n",
              "\n",
              "    .dataframe tbody tr th {\n",
              "        vertical-align: top;\n",
              "    }\n",
              "\n",
              "    .dataframe thead th {\n",
              "        text-align: right;\n",
              "    }\n",
              "</style>\n",
              "<table border=\"1\" class=\"dataframe\">\n",
              "  <thead>\n",
              "    <tr style=\"text-align: right;\">\n",
              "      <th></th>\n",
              "      <th>label</th>\n",
              "      <th>message</th>\n",
              "    </tr>\n",
              "  </thead>\n",
              "  <tbody>\n",
              "    <tr>\n",
              "      <th>0</th>\n",
              "      <td>ham</td>\n",
              "      <td>Go until jurong point, crazy.. Available only ...</td>\n",
              "    </tr>\n",
              "    <tr>\n",
              "      <th>1</th>\n",
              "      <td>ham</td>\n",
              "      <td>Ok lar... Joking wif u oni...</td>\n",
              "    </tr>\n",
              "    <tr>\n",
              "      <th>2</th>\n",
              "      <td>spam</td>\n",
              "      <td>Free entry in 2 a wkly comp to win FA Cup fina...</td>\n",
              "    </tr>\n",
              "    <tr>\n",
              "      <th>3</th>\n",
              "      <td>ham</td>\n",
              "      <td>U dun say so early hor... U c already then say...</td>\n",
              "    </tr>\n",
              "    <tr>\n",
              "      <th>4</th>\n",
              "      <td>ham</td>\n",
              "      <td>Nah I don't think he goes to usf, he lives aro...</td>\n",
              "    </tr>\n",
              "  </tbody>\n",
              "</table>\n",
              "</div>"
            ],
            "text/plain": [
              "  label                                            message\n",
              "0   ham  Go until jurong point, crazy.. Available only ...\n",
              "1   ham                      Ok lar... Joking wif u oni...\n",
              "2  spam  Free entry in 2 a wkly comp to win FA Cup fina...\n",
              "3   ham  U dun say so early hor... U c already then say...\n",
              "4   ham  Nah I don't think he goes to usf, he lives aro..."
            ]
          },
          "metadata": {
            "tags": []
          },
          "execution_count": 6
        }
      ]
    },
    {
      "cell_type": "code",
      "metadata": {
        "id": "ZF5n2VL8J1wC",
        "colab": {
          "base_uri": "https://localhost:8080/",
          "height": 204
        },
        "outputId": "b6776ad2-6eaf-4919-c8c9-057dcf02d237"
      },
      "source": [
        "df.tail()"
      ],
      "execution_count": 7,
      "outputs": [
        {
          "output_type": "execute_result",
          "data": {
            "text/html": [
              "<div>\n",
              "<style scoped>\n",
              "    .dataframe tbody tr th:only-of-type {\n",
              "        vertical-align: middle;\n",
              "    }\n",
              "\n",
              "    .dataframe tbody tr th {\n",
              "        vertical-align: top;\n",
              "    }\n",
              "\n",
              "    .dataframe thead th {\n",
              "        text-align: right;\n",
              "    }\n",
              "</style>\n",
              "<table border=\"1\" class=\"dataframe\">\n",
              "  <thead>\n",
              "    <tr style=\"text-align: right;\">\n",
              "      <th></th>\n",
              "      <th>label</th>\n",
              "      <th>message</th>\n",
              "    </tr>\n",
              "  </thead>\n",
              "  <tbody>\n",
              "    <tr>\n",
              "      <th>5567</th>\n",
              "      <td>spam</td>\n",
              "      <td>This is the 2nd time we have tried 2 contact u...</td>\n",
              "    </tr>\n",
              "    <tr>\n",
              "      <th>5568</th>\n",
              "      <td>ham</td>\n",
              "      <td>Will ü b going to esplanade fr home?</td>\n",
              "    </tr>\n",
              "    <tr>\n",
              "      <th>5569</th>\n",
              "      <td>ham</td>\n",
              "      <td>Pity, * was in mood for that. So...any other s...</td>\n",
              "    </tr>\n",
              "    <tr>\n",
              "      <th>5570</th>\n",
              "      <td>ham</td>\n",
              "      <td>The guy did some bitching but I acted like i'd...</td>\n",
              "    </tr>\n",
              "    <tr>\n",
              "      <th>5571</th>\n",
              "      <td>ham</td>\n",
              "      <td>Rofl. Its true to its name</td>\n",
              "    </tr>\n",
              "  </tbody>\n",
              "</table>\n",
              "</div>"
            ],
            "text/plain": [
              "     label                                            message\n",
              "5567  spam  This is the 2nd time we have tried 2 contact u...\n",
              "5568   ham               Will ü b going to esplanade fr home?\n",
              "5569   ham  Pity, * was in mood for that. So...any other s...\n",
              "5570   ham  The guy did some bitching but I acted like i'd...\n",
              "5571   ham                         Rofl. Its true to its name"
            ]
          },
          "metadata": {
            "tags": []
          },
          "execution_count": 7
        }
      ]
    },
    {
      "cell_type": "code",
      "metadata": {
        "id": "KjBi50n3BJk_",
        "colab": {
          "base_uri": "https://localhost:8080/"
        },
        "outputId": "73117cc2-ad52-4e0e-bcfd-d2f71d1ba8d2"
      },
      "source": [
        "df.info()"
      ],
      "execution_count": 8,
      "outputs": [
        {
          "output_type": "stream",
          "text": [
            "<class 'pandas.core.frame.DataFrame'>\n",
            "RangeIndex: 5572 entries, 0 to 5571\n",
            "Data columns (total 2 columns):\n",
            " #   Column   Non-Null Count  Dtype \n",
            "---  ------   --------------  ----- \n",
            " 0   label    5572 non-null   object\n",
            " 1   message  5572 non-null   object\n",
            "dtypes: object(2)\n",
            "memory usage: 87.2+ KB\n"
          ],
          "name": "stdout"
        }
      ]
    },
    {
      "cell_type": "code",
      "metadata": {
        "id": "Ipncn2wWGnCR",
        "colab": {
          "base_uri": "https://localhost:8080/",
          "height": 172
        },
        "outputId": "4d2c0b5a-b3fb-40f7-b123-687f2686f3fc"
      },
      "source": [
        "df.describe(include='object')"
      ],
      "execution_count": 9,
      "outputs": [
        {
          "output_type": "execute_result",
          "data": {
            "text/html": [
              "<div>\n",
              "<style scoped>\n",
              "    .dataframe tbody tr th:only-of-type {\n",
              "        vertical-align: middle;\n",
              "    }\n",
              "\n",
              "    .dataframe tbody tr th {\n",
              "        vertical-align: top;\n",
              "    }\n",
              "\n",
              "    .dataframe thead th {\n",
              "        text-align: right;\n",
              "    }\n",
              "</style>\n",
              "<table border=\"1\" class=\"dataframe\">\n",
              "  <thead>\n",
              "    <tr style=\"text-align: right;\">\n",
              "      <th></th>\n",
              "      <th>label</th>\n",
              "      <th>message</th>\n",
              "    </tr>\n",
              "  </thead>\n",
              "  <tbody>\n",
              "    <tr>\n",
              "      <th>count</th>\n",
              "      <td>5572</td>\n",
              "      <td>5572</td>\n",
              "    </tr>\n",
              "    <tr>\n",
              "      <th>unique</th>\n",
              "      <td>2</td>\n",
              "      <td>5169</td>\n",
              "    </tr>\n",
              "    <tr>\n",
              "      <th>top</th>\n",
              "      <td>ham</td>\n",
              "      <td>Sorry, I'll call later</td>\n",
              "    </tr>\n",
              "    <tr>\n",
              "      <th>freq</th>\n",
              "      <td>4825</td>\n",
              "      <td>30</td>\n",
              "    </tr>\n",
              "  </tbody>\n",
              "</table>\n",
              "</div>"
            ],
            "text/plain": [
              "       label                 message\n",
              "count   5572                    5572\n",
              "unique     2                    5169\n",
              "top      ham  Sorry, I'll call later\n",
              "freq    4825                      30"
            ]
          },
          "metadata": {
            "tags": []
          },
          "execution_count": 9
        }
      ]
    },
    {
      "cell_type": "markdown",
      "metadata": {
        "id": "RI-zu8fXBQoc"
      },
      "source": [
        "_**Note: No NaN values** in the dataset._"
      ]
    },
    {
      "cell_type": "code",
      "metadata": {
        "id": "8NpIBm-GJWJ6"
      },
      "source": [
        "# Mapping values for label\n",
        "df['label'] = df['label'].map({'ham': 0, 'spam': 1})"
      ],
      "execution_count": 10,
      "outputs": []
    },
    {
      "cell_type": "code",
      "metadata": {
        "id": "fJzlOdnuJsIw",
        "colab": {
          "base_uri": "https://localhost:8080/",
          "height": 204
        },
        "outputId": "43ede5a7-0e2d-4011-fa0e-cbae045fd51c"
      },
      "source": [
        "df.head()"
      ],
      "execution_count": 11,
      "outputs": [
        {
          "output_type": "execute_result",
          "data": {
            "text/html": [
              "<div>\n",
              "<style scoped>\n",
              "    .dataframe tbody tr th:only-of-type {\n",
              "        vertical-align: middle;\n",
              "    }\n",
              "\n",
              "    .dataframe tbody tr th {\n",
              "        vertical-align: top;\n",
              "    }\n",
              "\n",
              "    .dataframe thead th {\n",
              "        text-align: right;\n",
              "    }\n",
              "</style>\n",
              "<table border=\"1\" class=\"dataframe\">\n",
              "  <thead>\n",
              "    <tr style=\"text-align: right;\">\n",
              "      <th></th>\n",
              "      <th>label</th>\n",
              "      <th>message</th>\n",
              "    </tr>\n",
              "  </thead>\n",
              "  <tbody>\n",
              "    <tr>\n",
              "      <th>0</th>\n",
              "      <td>0</td>\n",
              "      <td>Go until jurong point, crazy.. Available only ...</td>\n",
              "    </tr>\n",
              "    <tr>\n",
              "      <th>1</th>\n",
              "      <td>0</td>\n",
              "      <td>Ok lar... Joking wif u oni...</td>\n",
              "    </tr>\n",
              "    <tr>\n",
              "      <th>2</th>\n",
              "      <td>1</td>\n",
              "      <td>Free entry in 2 a wkly comp to win FA Cup fina...</td>\n",
              "    </tr>\n",
              "    <tr>\n",
              "      <th>3</th>\n",
              "      <td>0</td>\n",
              "      <td>U dun say so early hor... U c already then say...</td>\n",
              "    </tr>\n",
              "    <tr>\n",
              "      <th>4</th>\n",
              "      <td>0</td>\n",
              "      <td>Nah I don't think he goes to usf, he lives aro...</td>\n",
              "    </tr>\n",
              "  </tbody>\n",
              "</table>\n",
              "</div>"
            ],
            "text/plain": [
              "   label                                            message\n",
              "0      0  Go until jurong point, crazy.. Available only ...\n",
              "1      0                      Ok lar... Joking wif u oni...\n",
              "2      1  Free entry in 2 a wkly comp to win FA Cup fina...\n",
              "3      0  U dun say so early hor... U c already then say...\n",
              "4      0  Nah I don't think he goes to usf, he lives aro..."
            ]
          },
          "metadata": {
            "tags": []
          },
          "execution_count": 11
        }
      ]
    },
    {
      "cell_type": "code",
      "metadata": {
        "id": "noXpzSrQJ465",
        "colab": {
          "base_uri": "https://localhost:8080/",
          "height": 204
        },
        "outputId": "43e59295-c6ae-4fdf-fc19-6da4e30eb594"
      },
      "source": [
        "df.tail()"
      ],
      "execution_count": 12,
      "outputs": [
        {
          "output_type": "execute_result",
          "data": {
            "text/html": [
              "<div>\n",
              "<style scoped>\n",
              "    .dataframe tbody tr th:only-of-type {\n",
              "        vertical-align: middle;\n",
              "    }\n",
              "\n",
              "    .dataframe tbody tr th {\n",
              "        vertical-align: top;\n",
              "    }\n",
              "\n",
              "    .dataframe thead th {\n",
              "        text-align: right;\n",
              "    }\n",
              "</style>\n",
              "<table border=\"1\" class=\"dataframe\">\n",
              "  <thead>\n",
              "    <tr style=\"text-align: right;\">\n",
              "      <th></th>\n",
              "      <th>label</th>\n",
              "      <th>message</th>\n",
              "    </tr>\n",
              "  </thead>\n",
              "  <tbody>\n",
              "    <tr>\n",
              "      <th>5567</th>\n",
              "      <td>1</td>\n",
              "      <td>This is the 2nd time we have tried 2 contact u...</td>\n",
              "    </tr>\n",
              "    <tr>\n",
              "      <th>5568</th>\n",
              "      <td>0</td>\n",
              "      <td>Will ü b going to esplanade fr home?</td>\n",
              "    </tr>\n",
              "    <tr>\n",
              "      <th>5569</th>\n",
              "      <td>0</td>\n",
              "      <td>Pity, * was in mood for that. So...any other s...</td>\n",
              "    </tr>\n",
              "    <tr>\n",
              "      <th>5570</th>\n",
              "      <td>0</td>\n",
              "      <td>The guy did some bitching but I acted like i'd...</td>\n",
              "    </tr>\n",
              "    <tr>\n",
              "      <th>5571</th>\n",
              "      <td>0</td>\n",
              "      <td>Rofl. Its true to its name</td>\n",
              "    </tr>\n",
              "  </tbody>\n",
              "</table>\n",
              "</div>"
            ],
            "text/plain": [
              "      label                                            message\n",
              "5567      1  This is the 2nd time we have tried 2 contact u...\n",
              "5568      0               Will ü b going to esplanade fr home?\n",
              "5569      0  Pity, * was in mood for that. So...any other s...\n",
              "5570      0  The guy did some bitching but I acted like i'd...\n",
              "5571      0                         Rofl. Its true to its name"
            ]
          },
          "metadata": {
            "tags": []
          },
          "execution_count": 12
        }
      ]
    },
    {
      "cell_type": "code",
      "metadata": {
        "id": "HRy7PIlClJiT"
      },
      "source": [
        "# Importing essential libraries for visualization\n",
        "import matplotlib.pyplot as plt\n",
        "import seaborn as sns\n",
        "%matplotlib inline"
      ],
      "execution_count": 13,
      "outputs": []
    },
    {
      "cell_type": "code",
      "metadata": {
        "id": "Xpzp7cqdljhd",
        "colab": {
          "base_uri": "https://localhost:8080/",
          "height": 513
        },
        "outputId": "856cb29d-7872-4a3c-fb38-000a7ad69359"
      },
      "source": [
        "# Countplot for Spam vs. Ham as imbalanced dataset\n",
        "plt.figure(figsize=(8,8))\n",
        "g = sns.countplot(x='label', data=df)\n",
        "p = plt.title('Countplot for Spam vs. Ham as imbalanced dataset')\n",
        "p = plt.xlabel('Is SMS Spam?')\n",
        "p = plt.ylabel('Count')"
      ],
      "execution_count": 14,
      "outputs": [
        {
          "output_type": "display_data",
          "data": {
            "image/png": "[encoded data removed]",
            "text/plain": [
              "<Figure size 576x576 with 1 Axes>"
            ]
          },
          "metadata": {
            "tags": [],
            "needs_background": "light"
          }
        }
      ]
    },
    {
      "cell_type": "markdown",
      "metadata": {
        "id": "CzNro4H9_Qb3"
      },
      "source": [
        "_**Insight:** From the above countplot, it is evident that the **dataset is imbalanced**._"
      ]
    },
    {
      "cell_type": "markdown",
      "metadata": {
        "id": "19UoPYemgITc"
      },
      "source": [
        "# **Feature Engineering**\n",
        "*   Handling imbalanced dataset using Oversampling\n",
        "*   Creating new features e.g. word_count, contains_currency_symbol, contains_numbers, etc.\n",
        "\n"
      ]
    },
    {
      "cell_type": "code",
      "metadata": {
        "id": "YUjh1AFEgOab",
        "colab": {
          "base_uri": "https://localhost:8080/"
        },
        "outputId": "8e2b0bf1-ab17-4869-963c-83cfce6518ba"
      },
      "source": [
        "# Handling imbalanced dataset using Oversampling\n",
        "only_spam = df[df['label']==1]\n",
        "print('Number of Spam records: {}'.format(only_spam.shape[0]))\n",
        "print('Number of Ham records: {}'.format(df.shape[0]-only_spam.shape[0]))"
      ],
      "execution_count": 15,
      "outputs": [
        {
          "output_type": "stream",
          "text": [
            "Number of Spam records: 747\n",
            "Number of Ham records: 4825\n"
          ],
          "name": "stdout"
        }
      ]
    },
    {
      "cell_type": "code",
      "metadata": {
        "id": "EPMQ8YDJgOWH",
        "colab": {
          "base_uri": "https://localhost:8080/"
        },
        "outputId": "1d868320-ffb9-4bf7-bc9d-3bd51d7f5db6"
      },
      "source": [
        "count = int((df.shape[0]-only_spam.shape[0])/only_spam.shape[0])\n",
        "for i in range(0, count-1):\n",
        "  df = pd.concat([df, only_spam])\n",
        "\n",
        "df.shape"
      ],
      "execution_count": 16,
      "outputs": [
        {
          "output_type": "execute_result",
          "data": {
            "text/plain": [
              "(9307, 2)"
            ]
          },
          "metadata": {
            "tags": []
          },
          "execution_count": 16
        }
      ]
    },
    {
      "cell_type": "code",
      "metadata": {
        "id": "oKgIDjAbMsdT",
        "colab": {
          "base_uri": "https://localhost:8080/",
          "height": 513
        },
        "outputId": "a806a095-8e8b-4dc0-a497-e37b0f4c1f9c"
      },
      "source": [
        "# Countplot for Spam vs. Ham as balanced dataset\n",
        "plt.figure(figsize=(8,8))\n",
        "g = sns.countplot(x='label', data=df)\n",
        "p = plt.title('Countplot for Spam vs. Ham as balanced dataset')\n",
        "p = plt.xlabel('Is SMS Spam?')\n",
        "p = plt.ylabel('Count')"
      ],
      "execution_count": 17,
      "outputs": [
        {
          "output_type": "display_data",
          "data": {
            "image/png": "[encoded data removed]",
            "text/plain": [
              "<Figure size 576x576 with 1 Axes>"
            ]
          },
          "metadata": {
            "tags": [],
            "needs_background": "light"
          }
        }
      ]
    },
    {
      "cell_type": "code",
      "metadata": {
        "id": "BGyIBoY4NICC"
      },
      "source": [
        "# Creating new feature word_count\n",
        "df['word_count'] = df['message'].apply(lambda x: len(x.split()))"
      ],
      "execution_count": 18,
      "outputs": []
    },
    {
      "cell_type": "code",
      "metadata": {
        "id": "Dx2yYqZAU3xj",
        "colab": {
          "base_uri": "https://localhost:8080/",
          "height": 204
        },
        "outputId": "3cd99d68-257c-420e-ce79-f5ade2078759"
      },
      "source": [
        "df.head()"
      ],
      "execution_count": 19,
      "outputs": [
        {
          "output_type": "execute_result",
          "data": {
            "text/html": [
              "<div>\n",
              "<style scoped>\n",
              "    .dataframe tbody tr th:only-of-type {\n",
              "        vertical-align: middle;\n",
              "    }\n",
              "\n",
              "    .dataframe tbody tr th {\n",
              "        vertical-align: top;\n",
              "    }\n",
              "\n",
              "    .dataframe thead th {\n",
              "        text-align: right;\n",
              "    }\n",
              "</style>\n",
              "<table border=\"1\" class=\"dataframe\">\n",
              "  <thead>\n",
              "    <tr style=\"text-align: right;\">\n",
              "      <th></th>\n",
              "      <th>label</th>\n",
              "      <th>message</th>\n",
              "      <th>word_count</th>\n",
              "    </tr>\n",
              "  </thead>\n",
              "  <tbody>\n",
              "    <tr>\n",
              "      <th>0</th>\n",
              "      <td>0</td>\n",
              "      <td>Go until jurong point, crazy.. Available only ...</td>\n",
              "      <td>20</td>\n",
              "    </tr>\n",
              "    <tr>\n",
              "      <th>1</th>\n",
              "      <td>0</td>\n",
              "      <td>Ok lar... Joking wif u oni...</td>\n",
              "      <td>6</td>\n",
              "    </tr>\n",
              "    <tr>\n",
              "      <th>2</th>\n",
              "      <td>1</td>\n",
              "      <td>Free entry in 2 a wkly comp to win FA Cup fina...</td>\n",
              "      <td>28</td>\n",
              "    </tr>\n",
              "    <tr>\n",
              "      <th>3</th>\n",
              "      <td>0</td>\n",
              "      <td>U dun say so early hor... U c already then say...</td>\n",
              "      <td>11</td>\n",
              "    </tr>\n",
              "    <tr>\n",
              "      <th>4</th>\n",
              "      <td>0</td>\n",
              "      <td>Nah I don't think he goes to usf, he lives aro...</td>\n",
              "      <td>13</td>\n",
              "    </tr>\n",
              "  </tbody>\n",
              "</table>\n",
              "</div>"
            ],
            "text/plain": [
              "   label                                            message  word_count\n",
              "0      0  Go until jurong point, crazy.. Available only ...          20\n",
              "1      0                      Ok lar... Joking wif u oni...           6\n",
              "2      1  Free entry in 2 a wkly comp to win FA Cup fina...          28\n",
              "3      0  U dun say so early hor... U c already then say...          11\n",
              "4      0  Nah I don't think he goes to usf, he lives aro...          13"
            ]
          },
          "metadata": {
            "tags": []
          },
          "execution_count": 19
        }
      ]
    },
    {
      "cell_type": "code",
      "metadata": {
        "id": "dRdACe8cONu9",
        "colab": {
          "base_uri": "https://localhost:8080/",
          "height": 532
        },
        "outputId": "7929651c-e099-416a-98ee-0de33583eeb1"
      },
      "source": [
        "plt.figure(figsize=(12, 6))\n",
        "\n",
        "# 1-row, 2-column, go to the first subplot\n",
        "plt.subplot(1, 2, 1)\n",
        "g = sns.distplot(a=df[df['label']==0].word_count)\n",
        "p = plt.title('Distribution of word_count for Ham messages')\n",
        "\n",
        "# 1-row, 2-column, go to the second subplot\n",
        "plt.subplot(1, 2, 2)\n",
        "g = sns.distplot(a=df[df['label']==1].word_count, color='red')\n",
        "p = plt.title('Distribution of word_count for Spam messages')\n",
        "\n",
        "plt.tight_layout()\n",
        "plt.show()"
      ],
      "execution_count": 20,
      "outputs": [
        {
          "output_type": "stream",
          "text": [
            "/usr/local/lib/python3.7/dist-packages/seaborn/distributions.py:2557: FutureWarning: `distplot` is a deprecated function and will be removed in a future version. Please adapt your code to use either `displot` (a figure-level function with similar flexibility) or `histplot` (an axes-level function for histograms).\n",
            "  warnings.warn(msg, FutureWarning)\n",
            "/usr/local/lib/python3.7/dist-packages/seaborn/distributions.py:2557: FutureWarning: `distplot` is a deprecated function and will be removed in a future version. Please adapt your code to use either `displot` (a figure-level function with similar flexibility) or `histplot` (an axes-level function for histograms).\n",
            "  warnings.warn(msg, FutureWarning)\n"
          ],
          "name": "stderr"
        },
        {
          "output_type": "display_data",
          "data": {
            "image/png": "[encoded data removed]",
            "text/plain": [
              "<Figure size 864x432 with 2 Axes>"
            ]
          },
          "metadata": {
            "tags": [],
            "needs_background": "light"
          }
        }
      ]
    },
    {
      "cell_type": "markdown",
      "metadata": {
        "id": "aCAT3fDHQKmr"
      },
      "source": [
        "_**Insight:** **Spam messages** word_count fall in the range of **15-30 words**, whereas majority of the **Ham messages** fall in the range of **below 25 words**._"
      ]
    },
    {
      "cell_type": "code",
      "metadata": {
        "id": "Bxntzd8jSEDE"
      },
      "source": [
        "# Creating feature contains_currency_symbol\n",
        "def currency(x):\n",
        "  currency_symbols = ['€', '$', '¥', '£', '₹']\n",
        "  for i in currency_symbols:\n",
        "    if i in x:\n",
        "      return 1\n",
        "  return 0\n",
        "\n",
        "df['contains_currency_symbol'] = df['message'].apply(currency)"
      ],
      "execution_count": 21,
      "outputs": []
    },
    {
      "cell_type": "code",
      "metadata": {
        "id": "7lBLNtDiUlDM",
        "colab": {
          "base_uri": "https://localhost:8080/",
          "height": 204
        },
        "outputId": "eafea9d7-8129-473c-84da-fe7d8de3d71c"
      },
      "source": [
        "df.tail()"
      ],
      "execution_count": 22,
      "outputs": [
        {
          "output_type": "execute_result",
          "data": {
            "text/html": [
              "<div>\n",
              "<style scoped>\n",
              "    .dataframe tbody tr th:only-of-type {\n",
              "        vertical-align: middle;\n",
              "    }\n",
              "\n",
              "    .dataframe tbody tr th {\n",
              "        vertical-align: top;\n",
              "    }\n",
              "\n",
              "    .dataframe thead th {\n",
              "        text-align: right;\n",
              "    }\n",
              "</style>\n",
              "<table border=\"1\" class=\"dataframe\">\n",
              "  <thead>\n",
              "    <tr style=\"text-align: right;\">\n",
              "      <th></th>\n",
              "      <th>label</th>\n",
              "      <th>message</th>\n",
              "      <th>word_count</th>\n",
              "      <th>contains_currency_symbol</th>\n",
              "    </tr>\n",
              "  </thead>\n",
              "  <tbody>\n",
              "    <tr>\n",
              "      <th>5537</th>\n",
              "      <td>1</td>\n",
              "      <td>Want explicit SEX in 30 secs? Ring 02073162414...</td>\n",
              "      <td>16</td>\n",
              "      <td>0</td>\n",
              "    </tr>\n",
              "    <tr>\n",
              "      <th>5540</th>\n",
              "      <td>1</td>\n",
              "      <td>ASKED 3MOBILE IF 0870 CHATLINES INCLU IN FREE ...</td>\n",
              "      <td>33</td>\n",
              "      <td>1</td>\n",
              "    </tr>\n",
              "    <tr>\n",
              "      <th>5547</th>\n",
              "      <td>1</td>\n",
              "      <td>Had your contract mobile 11 Mnths? Latest Moto...</td>\n",
              "      <td>28</td>\n",
              "      <td>0</td>\n",
              "    </tr>\n",
              "    <tr>\n",
              "      <th>5566</th>\n",
              "      <td>1</td>\n",
              "      <td>REMINDER FROM O2: To get 2.50 pounds free call...</td>\n",
              "      <td>28</td>\n",
              "      <td>0</td>\n",
              "    </tr>\n",
              "    <tr>\n",
              "      <th>5567</th>\n",
              "      <td>1</td>\n",
              "      <td>This is the 2nd time we have tried 2 contact u...</td>\n",
              "      <td>30</td>\n",
              "      <td>1</td>\n",
              "    </tr>\n",
              "  </tbody>\n",
              "</table>\n",
              "</div>"
            ],
            "text/plain": [
              "      label  ... contains_currency_symbol\n",
              "5537      1  ...                        0\n",
              "5540      1  ...                        1\n",
              "5547      1  ...                        0\n",
              "5566      1  ...                        0\n",
              "5567      1  ...                        1\n",
              "\n",
              "[5 rows x 4 columns]"
            ]
          },
          "metadata": {
            "tags": []
          },
          "execution_count": 22
        }
      ]
    },
    {
      "cell_type": "code",
      "metadata": {
        "id": "YMZcauWZYHKV",
        "colab": {
          "base_uri": "https://localhost:8080/",
          "height": 513
        },
        "outputId": "1abaf06b-8b6d-4f4a-d84e-d8ea9b22bbeb"
      },
      "source": [
        "# Countplot for contains_currency_symbol\n",
        "plt.figure(figsize=(8,8))\n",
        "g = sns.countplot(x='contains_currency_symbol', data=df, hue='label')\n",
        "p = plt.title('Countplot for contain_currency')\n",
        "p = plt.xlabel('Does SMS contain currency symbol?')\n",
        "p = plt.ylabel('Count')\n",
        "p = plt.legend(labels=['Ham', 'Spam'], loc=9)"
      ],
      "execution_count": 23,
      "outputs": [
        {
          "output_type": "display_data",
          "data": {
            "image/png": "[encoded data removed]",
            "text/plain": [
              "<Figure size 576x576 with 1 Axes>"
            ]
          },
          "metadata": {
            "tags": [],
            "needs_background": "light"
          }
        }
      ]
    },
    {
      "cell_type": "markdown",
      "metadata": {
        "id": "w-fLzXMsYY2N"
      },
      "source": [
        "_**Insight: Almost 1/3 of Spam messages contain currency symbols**, and currency symbols are **rarely used in Ham messages.**_"
      ]
    },
    {
      "cell_type": "code",
      "metadata": {
        "id": "OqgKvMkTVCJL"
      },
      "source": [
        "# Creating feature contains_number\n",
        "def numbers(x):\n",
        "  for i in x:\n",
        "    if ord(i)>=48 and ord(i)<=57:\n",
        "      return 1\n",
        "  return 0\n",
        "\n",
        "df['contains_number'] = df['message'].apply(numbers)"
      ],
      "execution_count": 24,
      "outputs": []
    },
    {
      "cell_type": "code",
      "metadata": {
        "id": "dLrxUfDsVmgj",
        "colab": {
          "base_uri": "https://localhost:8080/",
          "height": 204
        },
        "outputId": "9a61f37d-e9ac-4b8a-9df9-50cfa32e86bc"
      },
      "source": [
        "df.head()"
      ],
      "execution_count": 25,
      "outputs": [
        {
          "output_type": "execute_result",
          "data": {
            "text/html": [
              "<div>\n",
              "<style scoped>\n",
              "    .dataframe tbody tr th:only-of-type {\n",
              "        vertical-align: middle;\n",
              "    }\n",
              "\n",
              "    .dataframe tbody tr th {\n",
              "        vertical-align: top;\n",
              "    }\n",
              "\n",
              "    .dataframe thead th {\n",
              "        text-align: right;\n",
              "    }\n",
              "</style>\n",
              "<table border=\"1\" class=\"dataframe\">\n",
              "  <thead>\n",
              "    <tr style=\"text-align: right;\">\n",
              "      <th></th>\n",
              "      <th>label</th>\n",
              "      <th>message</th>\n",
              "      <th>word_count</th>\n",
              "      <th>contains_currency_symbol</th>\n",
              "      <th>contains_number</th>\n",
              "    </tr>\n",
              "  </thead>\n",
              "  <tbody>\n",
              "    <tr>\n",
              "      <th>0</th>\n",
              "      <td>0</td>\n",
              "      <td>Go until jurong point, crazy.. Available only ...</td>\n",
              "      <td>20</td>\n",
              "      <td>0</td>\n",
              "      <td>0</td>\n",
              "    </tr>\n",
              "    <tr>\n",
              "      <th>1</th>\n",
              "      <td>0</td>\n",
              "      <td>Ok lar... Joking wif u oni...</td>\n",
              "      <td>6</td>\n",
              "      <td>0</td>\n",
              "      <td>0</td>\n",
              "    </tr>\n",
              "    <tr>\n",
              "      <th>2</th>\n",
              "      <td>1</td>\n",
              "      <td>Free entry in 2 a wkly comp to win FA Cup fina...</td>\n",
              "      <td>28</td>\n",
              "      <td>0</td>\n",
              "      <td>1</td>\n",
              "    </tr>\n",
              "    <tr>\n",
              "      <th>3</th>\n",
              "      <td>0</td>\n",
              "      <td>U dun say so early hor... U c already then say...</td>\n",
              "      <td>11</td>\n",
              "      <td>0</td>\n",
              "      <td>0</td>\n",
              "    </tr>\n",
              "    <tr>\n",
              "      <th>4</th>\n",
              "      <td>0</td>\n",
              "      <td>Nah I don't think he goes to usf, he lives aro...</td>\n",
              "      <td>13</td>\n",
              "      <td>0</td>\n",
              "      <td>0</td>\n",
              "    </tr>\n",
              "  </tbody>\n",
              "</table>\n",
              "</div>"
            ],
            "text/plain": [
              "   label  ... contains_number\n",
              "0      0  ...               0\n",
              "1      0  ...               0\n",
              "2      1  ...               1\n",
              "3      0  ...               0\n",
              "4      0  ...               0\n",
              "\n",
              "[5 rows x 5 columns]"
            ]
          },
          "metadata": {
            "tags": []
          },
          "execution_count": 25
        }
      ]
    },
    {
      "cell_type": "code",
      "metadata": {
        "id": "SylEzeOlV0Kj",
        "colab": {
          "base_uri": "https://localhost:8080/",
          "height": 513
        },
        "outputId": "c4cf1a2f-a2e1-45c8-d34a-7220eade0c29"
      },
      "source": [
        "# Countplot for contains_number\n",
        "plt.figure(figsize=(8,8))\n",
        "g = sns.countplot(x='contains_number', data=df, hue='label')\n",
        "p = plt.title('Countplot for contain_numbers')\n",
        "p = plt.xlabel('Does SMS contain number?')\n",
        "p = plt.ylabel('Count')\n",
        "p = plt.legend(labels=['Ham', 'Spam'], loc=9)"
      ],
      "execution_count": 26,
      "outputs": [
        {
          "output_type": "display_data",
          "data": {
            "image/png": "[encoded data removed]",
            "text/plain": [
              "<Figure size 576x576 with 1 Axes>"
            ]
          },
          "metadata": {
            "tags": [],
            "needs_background": "light"
          }
        }
      ]
    },
    {
      "cell_type": "markdown",
      "metadata": {
        "id": "fJTf9Z9GXKfN"
      },
      "source": [
        "_**Insight:** It is evident that **most of the Spam messages contain numbers,** and **majority of the Ham messages donot contain numbers.**_"
      ]
    },
    {
      "cell_type": "markdown",
      "metadata": {
        "id": "uLCtNBBQnRDR"
      },
      "source": [
        "# **Data Cleaning**\n",
        "* Removing special character and numbers using regular expression\n",
        "* Converting the entire sms into lower case\n",
        "* Tokenizing the sms by words\n",
        "* Removing the stop words\n",
        "* Lemmatizing the words\n",
        "* Joining the lemmatized words\n",
        "* Building a corpus of messages"
      ]
    },
    {
      "cell_type": "code",
      "metadata": {
        "id": "d2IlhceAnQb7",
        "colab": {
          "base_uri": "https://localhost:8080/"
        },
        "outputId": "722d32eb-ea00-406b-e233-bddef4e2b38d"
      },
      "source": [
        "# Importing essential libraries for performing NLP\n",
        "import nltk\n",
        "import re\n",
        "nltk.download('stopwords')\n",
        "nltk.download('wordnet')\n",
        "from nltk.corpus import stopwords\n",
        "from nltk.stem import WordNetLemmatizer"
      ],
      "execution_count": 27,
      "outputs": [
        {
          "output_type": "stream",
          "text": [
            "[nltk_data] Downloading package stopwords to /root/nltk_data...\n",
            "[nltk_data]   Unzipping corpora/stopwords.zip.\n",
            "[nltk_data] Downloading package wordnet to /root/nltk_data...\n",
            "[nltk_data]   Unzipping corpora/wordnet.zip.\n"
          ],
          "name": "stdout"
        }
      ]
    },
    {
      "cell_type": "code",
      "metadata": {
        "id": "GBzPDWYglyeS"
      },
      "source": [
        "# Cleaning the messages\n",
        "corpus = []\n",
        "wnl = WordNetLemmatizer()\n",
        "\n",
        "for sms_string in list(df.message):\n",
        "\n",
        "  # Cleaning special character from the sms\n",
        "  message = re.sub(pattern='[^a-zA-Z]', repl=' ', string=sms_string)\n",
        "\n",
        "  # Converting the entire sms into lower case\n",
        "  message = message.lower()\n",
        "\n",
        "  # Tokenizing the sms by words\n",
        "  words = message.split()\n",
        "\n",
        "  # Removing the stop words\n",
        "  filtered_words = [word for word in words if word not in set(stopwords.words('english'))]\n",
        "\n",
        "  # Lemmatizing the words\n",
        "  lemmatized_words = [wnl.lemmatize(word) for word in filtered_words]\n",
        "\n",
        "  # Joining the lemmatized words\n",
        "  message = ' '.join(lemmatized_words)\n",
        "\n",
        "  # Building a corpus of messages\n",
        "  corpus.append(message)"
      ],
      "execution_count": 28,
      "outputs": []
    },
    {
      "cell_type": "code",
      "metadata": {
        "id": "u-qBfMYzpyoS",
        "colab": {
          "base_uri": "https://localhost:8080/"
        },
        "outputId": "54087f12-ef76-4d34-827a-2223f3213a0d"
      },
      "source": [
        "corpus[0:3]"
      ],
      "execution_count": 29,
      "outputs": [
        {
          "output_type": "execute_result",
          "data": {
            "text/plain": [
              "['go jurong point crazy available bugis n great world la e buffet cine got amore wat',\n",
              " 'ok lar joking wif u oni',\n",
              " 'free entry wkly comp win fa cup final tkts st may text fa receive entry question std txt rate c apply']"
            ]
          },
          "metadata": {
            "tags": []
          },
          "execution_count": 29
        }
      ]
    },
    {
      "cell_type": "code",
      "metadata": {
        "id": "XDL2Jfcbp6hi"
      },
      "source": [
        "# Creating the Bag of Words model\n",
        "from sklearn.feature_extraction.text import TfidfVectorizer\n",
        "tfidf = TfidfVectorizer(max_features=500)\n",
        "vectors = tfidf.fit_transform(corpus).toarray()\n",
        "feature_names = tfidf.get_feature_names()\n",
        "\n",
        "# Extracting independent and dependent variables from the dataset\n",
        "X = pd.DataFrame(vectors, columns=feature_names)\n",
        "y = df['label']"
      ],
      "execution_count": 30,
      "outputs": []
    },
    {
      "cell_type": "markdown",
      "metadata": {
        "id": "yvo6cT8rrKas"
      },
      "source": [
        "# **Model Building & Evaluation**\n",
        "_**Metric: F1-Score**_\n",
        "\n",
        "* Multiomail Naive Bayes: 0.943\n",
        "* Decision Tree: 0.98\n",
        "* **Random Forest (Ensemble): 0.994**\n",
        "* Voting (Multinomial Naive Bayes + Decision Tree): 0.98\n"
      ]
    },
    {
      "cell_type": "code",
      "metadata": {
        "id": "-GI83Ie5SEak"
      },
      "source": [
        "from sklearn.model_selection import cross_val_score\n",
        "from sklearn.metrics import classification_report, confusion_matrix\n",
        "from sklearn.model_selection import train_test_split"
      ],
      "execution_count": 31,
      "outputs": []
    },
    {
      "cell_type": "code",
      "metadata": {
        "id": "kMzc9nvtUgMk"
      },
      "source": [
        "X_train, X_test, y_train, y_test = train_test_split(X, y, test_size=0.2, random_state=42)"
      ],
      "execution_count": 32,
      "outputs": []
    },
    {
      "cell_type": "code",
      "metadata": {
        "id": "ZsqsZ6OorYHq",
        "colab": {
          "base_uri": "https://localhost:8080/"
        },
        "outputId": "93505596-f8bb-48b7-8690-5732cf7598d3"
      },
      "source": [
        "# Fitting Naive Bayes to the Training set\n",
        "from sklearn.naive_bayes import MultinomialNB\n",
        "mnb = MultinomialNB()\n",
        "cv = cross_val_score(mnb, X, y, scoring='f1', cv=10)\n",
        "print('--- Average F1-Score for MNB model: {} ---'.format(round(cv.mean(), 3)))\n",
        "print('Standard Deviation: {}'.format(round(cv.std(), 3)))"
      ],
      "execution_count": 33,
      "outputs": [
        {
          "output_type": "stream",
          "text": [
            "--- Average F1-Score for MNB model: 0.943 ---\n",
            "Standard Deviation: 0.004\n"
          ],
          "name": "stdout"
        }
      ]
    },
    {
      "cell_type": "code",
      "metadata": {
        "id": "INb9wkThW45r",
        "colab": {
          "base_uri": "https://localhost:8080/"
        },
        "outputId": "747c0210-159e-442d-aaa0-988dc30206e9"
      },
      "source": [
        "# Classification report for MNB model\n",
        "mnb = MultinomialNB()\n",
        "mnb.fit(X_train, y_train)\n",
        "y_pred = mnb.predict(X_test)\n",
        "\n",
        "print('--- Classification report for MNB model ---')\n",
        "print(classification_report(y_test, y_pred))"
      ],
      "execution_count": 34,
      "outputs": [
        {
          "output_type": "stream",
          "text": [
            "--- Classification report for MNB model ---\n",
            "              precision    recall  f1-score   support\n",
            "\n",
            "           0       0.94      0.94      0.94       959\n",
            "           1       0.94      0.94      0.94       903\n",
            "\n",
            "    accuracy                           0.94      1862\n",
            "   macro avg       0.94      0.94      0.94      1862\n",
            "weighted avg       0.94      0.94      0.94      1862\n",
            "\n"
          ],
          "name": "stdout"
        }
      ]
    },
    {
      "cell_type": "code",
      "metadata": {
        "id": "5bjAauN_XMNN",
        "colab": {
          "base_uri": "https://localhost:8080/",
          "height": 350
        },
        "outputId": "708b535a-d72e-48da-f149-83d08b339248"
      },
      "source": [
        "# Confusion matrix of MNB model\n",
        "cm = confusion_matrix(y_test, y_pred)\n",
        "\n",
        "plt.figure(figsize=(8,5))\n",
        "axis_labels = ['ham', 'spam']\n",
        "g = sns.heatmap(data=cm, annot=True, cmap=\"Blues\", xticklabels=axis_labels, yticklabels=axis_labels, fmt='g', cbar_kws={\"shrink\": 0.5})\n",
        "p = plt.xlabel('Actual values')\n",
        "p = plt.ylabel('Predicted values')\n",
        "p = plt.title('--- Confusion Matrix for Multinomial Naive Bayes model ---')"
      ],
      "execution_count": 35,
      "outputs": [
        {
          "output_type": "display_data",
          "data": {
            "image/png": "[encoded data removed]",
            "text/plain": [
              "<Figure size 576x360 with 2 Axes>"
            ]
          },
          "metadata": {
            "tags": [],
            "needs_background": "light"
          }
        }
      ]
    },
    {
      "cell_type": "code",
      "metadata": {
        "id": "rhkwwq3Hb-M-",
        "colab": {
          "base_uri": "https://localhost:8080/"
        },
        "outputId": "6174d3af-28eb-4b55-bf51-225fd34c6772"
      },
      "source": [
        "# Fitting Random Forest to the Training set\n",
        "from sklearn.tree import DecisionTreeClassifier\n",
        "dt = DecisionTreeClassifier()\n",
        "cv = cross_val_score(dt, X, y, scoring='f1', cv=10)\n",
        "print('--- Average F1-Score for Decision Tree model: {} ---'.format(round(cv.mean(), 3)))\n",
        "print('Standard Deviation: {}'.format(round(cv.std(), 3)))"
      ],
      "execution_count": 36,
      "outputs": [
        {
          "output_type": "stream",
          "text": [
            "--- Average F1-Score for Decision Tree model: 0.979 ---\n",
            "Standard Deviation: 0.003\n"
          ],
          "name": "stdout"
        }
      ]
    },
    {
      "cell_type": "code",
      "metadata": {
        "id": "uFB2qr6YchC-",
        "colab": {
          "base_uri": "https://localhost:8080/"
        },
        "outputId": "9526ff1c-2d1a-44b0-9a3d-f211ab73bde6"
      },
      "source": [
        "# Classification report for Decision Tree model\n",
        "dt = DecisionTreeClassifier()\n",
        "dt.fit(X_train, y_train)\n",
        "y_pred = dt.predict(X_test)\n",
        "\n",
        "print('--- Classification report for Decision Tree model ---')\n",
        "print(classification_report(y_test, y_pred))"
      ],
      "execution_count": 37,
      "outputs": [
        {
          "output_type": "stream",
          "text": [
            "--- Classification report for Decision Tree model ---\n",
            "              precision    recall  f1-score   support\n",
            "\n",
            "           0       1.00      0.97      0.98       959\n",
            "           1       0.97      1.00      0.98       903\n",
            "\n",
            "    accuracy                           0.98      1862\n",
            "   macro avg       0.98      0.98      0.98      1862\n",
            "weighted avg       0.98      0.98      0.98      1862\n",
            "\n"
          ],
          "name": "stdout"
        }
      ]
    },
    {
      "cell_type": "code",
      "metadata": {
        "id": "vcNIfLAMc_cN",
        "colab": {
          "base_uri": "https://localhost:8080/",
          "height": 350
        },
        "outputId": "615b6100-a73f-4d59-d3d5-279daddf2ff6"
      },
      "source": [
        "# Confusion matrix of Decision Tree model\n",
        "cm = confusion_matrix(y_test, y_pred)\n",
        "\n",
        "plt.figure(figsize=(8,5))\n",
        "axis_labels = ['ham', 'spam']\n",
        "g = sns.heatmap(data=cm, annot=True, cmap=\"Blues\", xticklabels=axis_labels, yticklabels=axis_labels, fmt='g', cbar_kws={\"shrink\": 0.5})\n",
        "p = plt.xlabel('Actual values')\n",
        "p = plt.ylabel('Predicted values')\n",
        "p = plt.title('--- Confusion Matrix for Decision Tree model ---')"
      ],
      "execution_count": 38,
      "outputs": [
        {
          "output_type": "display_data",
          "data": {
            "image/png": "[encoded data removed]",
            "text/plain": [
              "<Figure size 576x360 with 2 Axes>"
            ]
          },
          "metadata": {
            "tags": [],
            "needs_background": "light"
          }
        }
      ]
    },
    {
      "cell_type": "code",
      "metadata": {
        "id": "kOuy-BaLSqd5",
        "colab": {
          "base_uri": "https://localhost:8080/"
        },
        "outputId": "c9ba5c51-90b4-47b1-83c8-6698d628a87f"
      },
      "source": [
        "# Fitting Random Forest to the Training set\n",
        "from sklearn.ensemble import RandomForestClassifier\n",
        "rf = RandomForestClassifier(n_estimators=10)\n",
        "cv = cross_val_score(rf, X, y, scoring='f1', cv=10)\n",
        "print('--- Average F1-Score for Random Forest model: {} ---'.format(round(cv.mean(), 3)))\n",
        "print('Standard Deviation: {}'.format(round(cv.std(), 3)))"
      ],
      "execution_count": 39,
      "outputs": [
        {
          "output_type": "stream",
          "text": [
            "--- Average F1-Score for Random Forest model: 0.995 ---\n",
            "Standard Deviation: 0.002\n"
          ],
          "name": "stdout"
        }
      ]
    },
    {
      "cell_type": "code",
      "metadata": {
        "id": "F02lOVivsrna",
        "colab": {
          "base_uri": "https://localhost:8080/"
        },
        "outputId": "e4a874c7-db06-4942-97d3-af4a59d8eac3"
      },
      "source": [
        "# Classification report for Random Forest model\n",
        "rf = RandomForestClassifier(n_estimators=20)\n",
        "rf.fit(X_train, y_train)\n",
        "y_pred = rf.predict(X_test)\n",
        "\n",
        "print('--- Classification report for Random Forest model ---')\n",
        "print(classification_report(y_test, y_pred))"
      ],
      "execution_count": 40,
      "outputs": [
        {
          "output_type": "stream",
          "text": [
            "--- Classification report for Random Forest model ---\n",
            "              precision    recall  f1-score   support\n",
            "\n",
            "           0       1.00      0.99      0.99       959\n",
            "           1       0.99      1.00      0.99       903\n",
            "\n",
            "    accuracy                           0.99      1862\n",
            "   macro avg       0.99      0.99      0.99      1862\n",
            "weighted avg       0.99      0.99      0.99      1862\n",
            "\n"
          ],
          "name": "stdout"
        }
      ]
    },
    {
      "cell_type": "code",
      "metadata": {
        "id": "Q-UL5fUSWL_N",
        "colab": {
          "base_uri": "https://localhost:8080/",
          "height": 350
        },
        "outputId": "d7071518-2d65-413f-ec82-53e79549dc61"
      },
      "source": [
        "# Confusion matrix of Random Forest model\n",
        "cm = confusion_matrix(y_test, y_pred)\n",
        "\n",
        "plt.figure(figsize=(8,5))\n",
        "axis_labels = ['ham', 'spam']\n",
        "g = sns.heatmap(data=cm, annot=True, cmap=\"Blues\", xticklabels=axis_labels, yticklabels=axis_labels, fmt='g', cbar_kws={\"shrink\": 0.5})\n",
        "p = plt.xlabel('Actual values')\n",
        "p = plt.ylabel('Predicted values')\n",
        "p = plt.title('--- Confusion Matrix for Random Forest model ---')"
      ],
      "execution_count": 41,
      "outputs": [
        {
          "output_type": "display_data",
          "data": {
            "image/png": "[encoded data removed]",
            "text/plain": [
              "<Figure size 576x360 with 2 Axes>"
            ]
          },
          "metadata": {
            "tags": [],
            "needs_background": "light"
          }
        }
      ]
    },
    {
      "cell_type": "markdown",
      "metadata": {
        "id": "ySKNOiwaop3f"
      },
      "source": [
        "_**Note:** Decision Tree & MNB algorithms are selected and fed to Voting algorithm to increase the F1-Score!_"
      ]
    },
    {
      "cell_type": "code",
      "metadata": {
        "id": "scx5eN7TaE3V",
        "colab": {
          "base_uri": "https://localhost:8080/"
        },
        "outputId": "4d63a9b3-301b-4f24-83ee-a08c62351461"
      },
      "source": [
        "# Fitting Decision Tree and MNB to VotingClassifier\n",
        "from sklearn.ensemble import VotingClassifier\n",
        "vc = VotingClassifier([('decision_tree', dt), ('m_naive_bayes', mnb)], weights=[2,1])\n",
        "cv = cross_val_score(vc, X, y, cv=10, scoring='f1')\n",
        "\n",
        "print('--- Average F1-Score for VotingClassifier model: {} ---'.format(round(cv.mean(), 3)))\n",
        "print('Standard Deviation: {}'.format(round(cv.std(), 3)))"
      ],
      "execution_count": 42,
      "outputs": [
        {
          "output_type": "stream",
          "text": [
            "--- Average F1-Score for VotingClassifier model: 0.979 ---\n",
            "Standard Deviation: 0.004\n"
          ],
          "name": "stdout"
        }
      ]
    },
    {
      "cell_type": "markdown",
      "metadata": {
        "id": "Cy6K6Ps0oKnq"
      },
      "source": [
        "_**Note:** Voting algorithm did not out-perform Random Forest algorithm, hence **Random Forest algorithm is selected for predicting the results of this problem statement.**_\n"
      ]
    },
    {
      "cell_type": "markdown",
      "metadata": {
        "id": "LAtjiTWSuaYD"
      },
      "source": [
        "# **Making Predictions**"
      ]
    },
    {
      "cell_type": "code",
      "metadata": {
        "id": "culehxsLuZ0a"
      },
      "source": [
        "def predict_spam(sample_message):\n",
        "  sample_message = re.sub(pattern='[^a-zA-Z]',repl=' ', string = sample_message)\n",
        "  sample_message = sample_message.lower()\n",
        "  sample_message_words = sample_message.split()\n",
        "  sample_message_words = [word for word in sample_message_words if not word in set(stopwords.words('english'))]\n",
        "  final_message = [wnl.lemmatize(word) for word in sample_message_words]\n",
        "  final_message = ' '.join(final_message)\n",
        "\n",
        "  temp = tfidf.transform([final_message]).toarray()\n",
        "  return rf.predict(temp)"
      ],
      "execution_count": 43,
      "outputs": []
    },
    {
      "cell_type": "code",
      "metadata": {
        "id": "QzJJjG8fu7OI",
        "colab": {
          "base_uri": "https://localhost:8080/"
        },
        "outputId": "a2318a86-fdfe-493f-f803-c116fd062844"
      },
      "source": [
        "# Prediction 1 - Lottery text message\n",
        "sample_message = 'IMPORTANT - You could be entitled up to £3,160 in compensation from mis-sold PPI on a credit card or loan. Please reply PPI for info or STOP to opt out.'\n",
        "\n",
        "if predict_spam(sample_message):\n",
        "  print('Gotcha! This is a SPAM message.')\n",
        "else:\n",
        "  print('This is a HAM (normal) message.')"
      ],
      "execution_count": 44,
      "outputs": [
        {
          "output_type": "stream",
          "text": [
            "Gotcha! This is a SPAM message.\n"
          ],
          "name": "stdout"
        }
      ]
    },
    {
      "cell_type": "code",
      "metadata": {
        "id": "Wl4QRloavhNa",
        "colab": {
          "base_uri": "https://localhost:8080/"
        },
        "outputId": "181021d6-deba-4a58-a323-2d45df89bf49"
      },
      "source": [
        "# Prediction 2 - Casual text chat\n",
        "sample_message = 'Came to think of it. I have never got a spam message before.'\n",
        "\n",
        "if predict_spam(sample_message):\n",
        "  print('Gotcha! This is a SPAM message.')\n",
        "else:\n",
        "  print('This is a HAM (normal) message.')"
      ],
      "execution_count": 45,
      "outputs": [
        {
          "output_type": "stream",
          "text": [
            "This is a HAM (normal) message.\n"
          ],
          "name": "stdout"
        }
      ]
    },
    {
      "cell_type": "code",
      "metadata": {
        "id": "b3y7O714gAu3",
        "colab": {
          "base_uri": "https://localhost:8080/"
        },
        "outputId": "164455e0-29af-439a-b425-aae68e9f62c5"
      },
      "source": [
        "# Prediction 3 - Transaction confirmation text message\n",
        "sample_message = 'Sam, your rent payment for Jan 19 has been received. $1,300 will be drafted from your Wells Fargo Account ******0000 within 24-48 business hours. Thank you!'\n",
        "\n",
        "if predict_spam(sample_message):\n",
        "  print('Gotcha! This is a SPAM message.')\n",
        "else:\n",
        "  print('This is a HAM (normal) message.')"
      ],
      "execution_count": 46,
      "outputs": [
        {
          "output_type": "stream",
          "text": [
            "This is a HAM (normal) message.\n"
          ],
          "name": "stdout"
        }
      ]
    },
    {
      "cell_type": "code",
      "metadata": {
        "id": "5Qa7U43sh4__",
        "colab": {
          "base_uri": "https://localhost:8080/"
        },
        "outputId": "240a1492-3079-4394-ecb6-c6412ff94b4e"
      },
      "source": [
        "# Predicting values 4 - Feedback message\n",
        "sample_message = 'Tammy, thanks for choosing Carl’s Car Wash for your express polish. We would love to hear your thoughts on the service. Feel free to text back with any feedback. Safe driving!'\n",
        "\n",
        "if predict_spam(sample_message):\n",
        "  print('Gotcha! This is a SPAM message.')\n",
        "else:\n",
        "  print('This is a HAM (normal) message.')"
      ],
      "execution_count": 47,
      "outputs": [
        {
          "output_type": "stream",
          "text": [
            "Gotcha! This is a SPAM message.\n"
          ],
          "name": "stdout"
        }
      ]
    }
  ]
}